{
 "cells": [
  {
   "cell_type": "markdown",
   "metadata": {},
   "source": [
    "Kyle Fawkes \n",
    "November 15, 2015 \n",
    "Final Project Proposal \n",
    "Computation in the Physical Sciences \n",
    "Plankton in the Northern Strait of Georgia\n",
    "\n",
    "Introduction:\n",
    "\n",
    "The basis of marine food webs is composed of small photosynthesizing organisms called Phytoplankton (Beamish & McFarlane, 2014). These microscopic organisms float with the ocean currents, and provide food for zooplankton and other upper trophic level organisms to support marine ecosystems (Beamish & McFarlane, 2014). In the Strait of Georgia, phytoplankton typically have a large bloom at the beginning to middle of spring when the water begins to stratify and the amount of sunlight exposure increases (Beamish & McFarlane, 2014). Similarly just after this bloom of phytoplankton, the Strait undergoes a zooplankton bloom (Beamish & McFarlane, 2014). The timing of this spring bloom is paramount to many marine organisms in higher trophic levels, including juvenile Pacific Salmon (Beamish & McFarlane, 2014). Recently there have been changes in the timing of spring phytoplankton and zooplankton blooms in the Strait, which scientists attribute to climate change. Ultimately this has complicated the migration of Salmon out of the Strait, as well as their early development (Johannessen & McCarter, 2010; Allen & Wolfe, 2013). In addition, researchers have recently proposed that the lack of primary productivity in narrow and turbulent migration passages out of the Strait puts further stress on these young migrating Salmon, as they encounter a lack of food. This combination of the annual bloom variance in the narrow migration passages is a particularly new and mysterious area of research, which is still underexplored. For my Keystone I want to explore the feasibility of predicting the timing and strength of plankton blooms in the Discovery passage using a common oceanic productivity model known as NPZ (Nutrient, Phytoplankton, and Zooplankton) model (Franks, 2002). Creating an NPZ model and analyzing the output is outside the scope for this project. However, a complex and accurate NPZ model includes variables and parameters that account for the biotic factors as well as abiotic factors (Franks, 2002). And since plankton growth is heavily affected by both vertical water turnover and temperature, I propose examining the multivariate relationship between sea surface temperature, wind driven vertical turnover and Zooplankton abundance in the narrow Discovery Passage. I hypothesize that plankton will have a slight positive relationship with sea surface temperature and a slight negative relationship with wind driven vertical turnover.\n",
    "\n",
    "Methods:\n",
    "\n",
    "To examine this relationship I propose using two main techniques. First I propose plotting the zooplankton abundance with the sea surface temperature and significant wave height in a time series for the spring bloom. This would give a good visual representation of the trends of the three variables during the spring bloom. Second, I propose running a multivariate statistical analysis of the three variables over the spring bloom season. This would provide statistical evidence and values for the relationships in focus. \n",
    "\n",
    "Expected Outcomes:\n",
    "\n",
    "Due to my very limited experience analyzing zooplankton and oceanic systems, I do not expect my predictions to closely match my predictions. However, I would predict moderate positive correlation between sea surface temperature and zooplankton abundance and weak to moderate correlation between significant wave height and zooplankton abundance. I hope this analysis of the relationships between zooplankton and sea surface temperature and significant wave height will provide a foundation of knowledge necessary in order to start parameterizing a model. In future research, I hope to isolate the relationship between zooplankton and sea surface temperature and significant wave height for specific types of zooplankton such that I can comment on the food availability of Salmon. \n",
    "\n",
    "References:\n",
    "Allen, S.E., & Wolfe, M.A. (2013) Hindcast of the timing of the spring phytoplankton bloom in the Strait of Georgia, 1968–2010. Progress in Oceanography, Volume 115.\n",
    "\n",
    "Beamish, R., & McFarlane (2014). The Sea Among Us: The Amazing Strait of Georgia. Madeira Park, BC, Canada: Harbour Publishing Co.\n",
    "Franks, P.J., (2002) NPZ Models of Plankton Dynamics: Their Construction, Coupling to Physics, and Application. Journal of Oceanography, Volume 58.\n",
    "Johannessen, S. C., & McCarter, B. (2010). Ecosystem Status and Trends Report for the Strait of Georgia Ecozone. Retrieved from http://www.dfo-mpo.gc.ca/CSAS/Csas/publications/resdocs-docrech/2010/2010_010_e.pdf\n",
    "\n",
    "\n"
   ]
  },
  {
   "cell_type": "code",
   "execution_count": null,
   "metadata": {
    "collapsed": true
   },
   "outputs": [],
   "source": []
  }
 ],
 "metadata": {
  "kernelspec": {
   "display_name": "Python 3",
   "language": "python",
   "name": "python3"
  },
  "language_info": {
   "codemirror_mode": {
    "name": "ipython",
    "version": 3
   },
   "file_extension": ".py",
   "mimetype": "text/x-python",
   "name": "python",
   "nbconvert_exporter": "python",
   "pygments_lexer": "ipython3",
   "version": "3.4.3"
  }
 },
 "nbformat": 4,
 "nbformat_minor": 0
}
